{
 "cells": [
  {
   "cell_type": "code",
   "execution_count": 3,
   "metadata": {},
   "outputs": [],
   "source": [
    "import pandas as pd\n"
   ]
  },
  {
   "cell_type": "code",
   "execution_count": 4,
   "metadata": {},
   "outputs": [],
   "source": [
    "df=pd.read_csv('grade.csv')\n",
    "test=pd.read_csv('grademl.csv')\n"
   ]
  },
  {
   "cell_type": "code",
   "execution_count": 5,
   "metadata": {},
   "outputs": [
    {
     "output_type": "execute_result",
     "data": {
      "text/plain": [
       "   ['OS']_B  ['OS']_B+  ['OS']_A  ['OS']_A+  ['OS']_O  ['DAA']_B  ['DAA']_B+  \\\n",
       "0         0          0         1          0         0          1           0   \n",
       "1         1          0         0          0         0          1           0   \n",
       "2         0          1         0          0         0          0           1   \n",
       "3         0          0         1          0         0          0           1   \n",
       "4         0          0         0          1         0          0           0   \n",
       "\n",
       "   ['DAA']_A  ['DAA']_A+  ['DAA']_O  ...  ['DBMS']_B  ['DBMS']_B+  ['DBMS']_A  \\\n",
       "0          0           0          0  ...           0            1           0   \n",
       "1          0           0          0  ...           1            0           0   \n",
       "2          0           0          0  ...           1            0           0   \n",
       "3          0           0          0  ...           0            0           1   \n",
       "4          0           1          0  ...           0            0           1   \n",
       "\n",
       "   ['DBMS']_A+  ['DBMS']_O  ['SE']_B  ['SE']_B+  ['SE']_A  ['SE']_A+  ['SE']_O  \n",
       "0            0           0         0          1         0          0         0  \n",
       "1            0           0         1          0         0          0         0  \n",
       "2            0           0         0          1         0          0         0  \n",
       "3            0           0         0          0         1          0         0  \n",
       "4            0           0         0          0         0          1         0  \n",
       "\n",
       "[5 rows x 25 columns]"
      ],
      "text/html": "<div>\n<style scoped>\n    .dataframe tbody tr th:only-of-type {\n        vertical-align: middle;\n    }\n\n    .dataframe tbody tr th {\n        vertical-align: top;\n    }\n\n    .dataframe thead th {\n        text-align: right;\n    }\n</style>\n<table border=\"1\" class=\"dataframe\">\n  <thead>\n    <tr style=\"text-align: right;\">\n      <th></th>\n      <th>['OS']_B</th>\n      <th>['OS']_B+</th>\n      <th>['OS']_A</th>\n      <th>['OS']_A+</th>\n      <th>['OS']_O</th>\n      <th>['DAA']_B</th>\n      <th>['DAA']_B+</th>\n      <th>['DAA']_A</th>\n      <th>['DAA']_A+</th>\n      <th>['DAA']_O</th>\n      <th>...</th>\n      <th>['DBMS']_B</th>\n      <th>['DBMS']_B+</th>\n      <th>['DBMS']_A</th>\n      <th>['DBMS']_A+</th>\n      <th>['DBMS']_O</th>\n      <th>['SE']_B</th>\n      <th>['SE']_B+</th>\n      <th>['SE']_A</th>\n      <th>['SE']_A+</th>\n      <th>['SE']_O</th>\n    </tr>\n  </thead>\n  <tbody>\n    <tr>\n      <th>0</th>\n      <td>0</td>\n      <td>0</td>\n      <td>1</td>\n      <td>0</td>\n      <td>0</td>\n      <td>1</td>\n      <td>0</td>\n      <td>0</td>\n      <td>0</td>\n      <td>0</td>\n      <td>...</td>\n      <td>0</td>\n      <td>1</td>\n      <td>0</td>\n      <td>0</td>\n      <td>0</td>\n      <td>0</td>\n      <td>1</td>\n      <td>0</td>\n      <td>0</td>\n      <td>0</td>\n    </tr>\n    <tr>\n      <th>1</th>\n      <td>1</td>\n      <td>0</td>\n      <td>0</td>\n      <td>0</td>\n      <td>0</td>\n      <td>1</td>\n      <td>0</td>\n      <td>0</td>\n      <td>0</td>\n      <td>0</td>\n      <td>...</td>\n      <td>1</td>\n      <td>0</td>\n      <td>0</td>\n      <td>0</td>\n      <td>0</td>\n      <td>1</td>\n      <td>0</td>\n      <td>0</td>\n      <td>0</td>\n      <td>0</td>\n    </tr>\n    <tr>\n      <th>2</th>\n      <td>0</td>\n      <td>1</td>\n      <td>0</td>\n      <td>0</td>\n      <td>0</td>\n      <td>0</td>\n      <td>1</td>\n      <td>0</td>\n      <td>0</td>\n      <td>0</td>\n      <td>...</td>\n      <td>1</td>\n      <td>0</td>\n      <td>0</td>\n      <td>0</td>\n      <td>0</td>\n      <td>0</td>\n      <td>1</td>\n      <td>0</td>\n      <td>0</td>\n      <td>0</td>\n    </tr>\n    <tr>\n      <th>3</th>\n      <td>0</td>\n      <td>0</td>\n      <td>1</td>\n      <td>0</td>\n      <td>0</td>\n      <td>0</td>\n      <td>1</td>\n      <td>0</td>\n      <td>0</td>\n      <td>0</td>\n      <td>...</td>\n      <td>0</td>\n      <td>0</td>\n      <td>1</td>\n      <td>0</td>\n      <td>0</td>\n      <td>0</td>\n      <td>0</td>\n      <td>1</td>\n      <td>0</td>\n      <td>0</td>\n    </tr>\n    <tr>\n      <th>4</th>\n      <td>0</td>\n      <td>0</td>\n      <td>0</td>\n      <td>1</td>\n      <td>0</td>\n      <td>0</td>\n      <td>0</td>\n      <td>0</td>\n      <td>1</td>\n      <td>0</td>\n      <td>...</td>\n      <td>0</td>\n      <td>0</td>\n      <td>1</td>\n      <td>0</td>\n      <td>0</td>\n      <td>0</td>\n      <td>0</td>\n      <td>0</td>\n      <td>1</td>\n      <td>0</td>\n    </tr>\n  </tbody>\n</table>\n<p>5 rows × 25 columns</p>\n</div>"
     },
     "metadata": {},
     "execution_count": 5
    }
   ],
   "source": [
    "x_train=df.drop('Result',axis=1)\n",
    "x_train.head()"
   ]
  },
  {
   "cell_type": "code",
   "execution_count": 6,
   "metadata": {},
   "outputs": [
    {
     "output_type": "execute_result",
     "data": {
      "text/plain": [
       "0    90%\n",
       "1    50%\n",
       "2    60%\n",
       "3    75%\n",
       "4    95%\n",
       "Name: Result, dtype: object"
      ]
     },
     "metadata": {},
     "execution_count": 6
    }
   ],
   "source": [
    "y_train=df['Result']\n",
    "y_train.head()"
   ]
  },
  {
   "cell_type": "code",
   "execution_count": 7,
   "metadata": {},
   "outputs": [],
   "source": [
    "from sklearn.linear_model import LogisticRegression\n",
    "#from sklearn.ensemble import RandomForestClassifier\n",
    "from sklearn.metrics import accuracy_score"
   ]
  },
  {
   "cell_type": "code",
   "execution_count": 8,
   "metadata": {},
   "outputs": [
    {
     "output_type": "execute_result",
     "data": {
      "text/plain": [
       "LogisticRegression()"
      ]
     },
     "metadata": {},
     "execution_count": 8
    }
   ],
   "source": [
    "model=LogisticRegression()\n",
    "#model=RandomForestClassifier()\n",
    "model.fit(x_train,y_train)"
   ]
  },
  {
   "cell_type": "code",
   "execution_count": 9,
   "metadata": {},
   "outputs": [
    {
     "output_type": "execute_result",
     "data": {
      "text/plain": [
       "0    90%\n",
       "1    75%\n",
       "2     0%\n",
       "Name: Result, dtype: object"
      ]
     },
     "metadata": {},
     "execution_count": 9
    }
   ],
   "source": [
    "test_x=test.drop('Result',axis=1)\n",
    "test_y=test['Result']\n",
    "test_y"
   ]
  },
  {
   "cell_type": "code",
   "execution_count": 10,
   "metadata": {},
   "outputs": [
    {
     "output_type": "execute_result",
     "data": {
      "text/plain": [
       "   ['OS']_B  ['OS']_B+  ['OS']_A  ['OS']_A+  ['OS']_O  ['DAA']_B  ['DAA']_B+  \\\n",
       "0         0          0         1          0         0          1           0   \n",
       "1         0          1         0          0         0          0           1   \n",
       "2         0          0         0          0         0          0           0   \n",
       "\n",
       "   ['DAA']_A  ['DAA']_A+  ['DAA']_O  ...  ['DBMS']_B  ['DBMS']_B+  ['DBMS']_A  \\\n",
       "0          0           0          0  ...           0            1           0   \n",
       "1          0           0          0  ...           0            0           1   \n",
       "2          0           0          0  ...           0            0           0   \n",
       "\n",
       "   ['DBMS']_A+  ['DBMS']_O  ['SE']_B  ['SE']_B+  ['SE']_A  ['SE']_A+  ['SE']_O  \n",
       "0            0           0         0          1         0          0         0  \n",
       "1            0           0         0          0         1          0         0  \n",
       "2            0           0         0          0         0          0         0  \n",
       "\n",
       "[3 rows x 25 columns]"
      ],
      "text/html": "<div>\n<style scoped>\n    .dataframe tbody tr th:only-of-type {\n        vertical-align: middle;\n    }\n\n    .dataframe tbody tr th {\n        vertical-align: top;\n    }\n\n    .dataframe thead th {\n        text-align: right;\n    }\n</style>\n<table border=\"1\" class=\"dataframe\">\n  <thead>\n    <tr style=\"text-align: right;\">\n      <th></th>\n      <th>['OS']_B</th>\n      <th>['OS']_B+</th>\n      <th>['OS']_A</th>\n      <th>['OS']_A+</th>\n      <th>['OS']_O</th>\n      <th>['DAA']_B</th>\n      <th>['DAA']_B+</th>\n      <th>['DAA']_A</th>\n      <th>['DAA']_A+</th>\n      <th>['DAA']_O</th>\n      <th>...</th>\n      <th>['DBMS']_B</th>\n      <th>['DBMS']_B+</th>\n      <th>['DBMS']_A</th>\n      <th>['DBMS']_A+</th>\n      <th>['DBMS']_O</th>\n      <th>['SE']_B</th>\n      <th>['SE']_B+</th>\n      <th>['SE']_A</th>\n      <th>['SE']_A+</th>\n      <th>['SE']_O</th>\n    </tr>\n  </thead>\n  <tbody>\n    <tr>\n      <th>0</th>\n      <td>0</td>\n      <td>0</td>\n      <td>1</td>\n      <td>0</td>\n      <td>0</td>\n      <td>1</td>\n      <td>0</td>\n      <td>0</td>\n      <td>0</td>\n      <td>0</td>\n      <td>...</td>\n      <td>0</td>\n      <td>1</td>\n      <td>0</td>\n      <td>0</td>\n      <td>0</td>\n      <td>0</td>\n      <td>1</td>\n      <td>0</td>\n      <td>0</td>\n      <td>0</td>\n    </tr>\n    <tr>\n      <th>1</th>\n      <td>0</td>\n      <td>1</td>\n      <td>0</td>\n      <td>0</td>\n      <td>0</td>\n      <td>0</td>\n      <td>1</td>\n      <td>0</td>\n      <td>0</td>\n      <td>0</td>\n      <td>...</td>\n      <td>0</td>\n      <td>0</td>\n      <td>1</td>\n      <td>0</td>\n      <td>0</td>\n      <td>0</td>\n      <td>0</td>\n      <td>1</td>\n      <td>0</td>\n      <td>0</td>\n    </tr>\n    <tr>\n      <th>2</th>\n      <td>0</td>\n      <td>0</td>\n      <td>0</td>\n      <td>0</td>\n      <td>0</td>\n      <td>0</td>\n      <td>0</td>\n      <td>0</td>\n      <td>0</td>\n      <td>0</td>\n      <td>...</td>\n      <td>0</td>\n      <td>0</td>\n      <td>0</td>\n      <td>0</td>\n      <td>0</td>\n      <td>0</td>\n      <td>0</td>\n      <td>0</td>\n      <td>0</td>\n      <td>0</td>\n    </tr>\n  </tbody>\n</table>\n<p>3 rows × 25 columns</p>\n</div>"
     },
     "metadata": {},
     "execution_count": 10
    }
   ],
   "source": [
    "\n",
    "test_x"
   ]
  },
  {
   "cell_type": "code",
   "execution_count": 11,
   "metadata": {},
   "outputs": [
    {
     "output_type": "execute_result",
     "data": {
      "text/plain": [
       "array(['90%', '75%', '0%'], dtype=object)"
      ]
     },
     "metadata": {},
     "execution_count": 11
    }
   ],
   "source": [
    "prediction=model.predict(test_x)\n",
    "prediction"
   ]
  },
  {
   "cell_type": "code",
   "execution_count": 12,
   "metadata": {},
   "outputs": [
    {
     "output_type": "execute_result",
     "data": {
      "text/plain": [
       "1.0"
      ]
     },
     "metadata": {},
     "execution_count": 12
    }
   ],
   "source": [
    "accuracy_score(test_y,prediction)"
   ]
  },
  {
   "cell_type": "code",
   "execution_count": 17,
   "metadata": {},
   "outputs": [
    {
     "output_type": "stream",
     "name": "stdout",
     "text": [
      "YOUR PASS PREDICTION FOR NEXT SEMESTER IS 90%\n"
     ]
    }
   ],
   "source": [
    "print(f\"YOUR PASS PREDICTION FOR NEXT SEMESTER IS {prediction[0]}\")"
   ]
  }
 ],
 "metadata": {
  "kernelspec": {
   "name": "python3",
   "display_name": "Python 3.7.7 64-bit",
   "metadata": {
    "interpreter": {
     "hash": "47a694ed0d21d7933c9e7c4dc46e12ecebbcf659effea44ca8967ba2fe2c125c"
    }
   }
  },
  "language_info": {
   "codemirror_mode": {
    "name": "ipython",
    "version": 3
   },
   "file_extension": ".py",
   "mimetype": "text/x-python",
   "name": "python",
   "nbconvert_exporter": "python",
   "pygments_lexer": "ipython3",
   "version": "3.7.7-final"
  }
 },
 "nbformat": 4,
 "nbformat_minor": 4
}
